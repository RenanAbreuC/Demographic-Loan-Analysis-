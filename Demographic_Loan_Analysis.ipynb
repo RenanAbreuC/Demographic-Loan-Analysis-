{
  "nbformat": 4,
  "nbformat_minor": 0,
  "metadata": {
    "colab": {
      "provenance": [],
      "authorship_tag": "ABX9TyPSFgo2f31RjVe9x+mZEiz6",
      "include_colab_link": true
    },
    "kernelspec": {
      "name": "python3",
      "display_name": "Python 3"
    },
    "language_info": {
      "name": "python"
    }
  },
  "cells": [
    {
      "cell_type": "markdown",
      "metadata": {
        "id": "view-in-github",
        "colab_type": "text"
      },
      "source": [
        "<a href=\"https://colab.research.google.com/github/RenanAbreuC/Demographic-Loan-Analysis-/blob/main/Demographic_Loan_Analysis.ipynb\" target=\"_parent\"><img src=\"https://colab.research.google.com/assets/colab-badge.svg\" alt=\"Open In Colab\"/></a>"
      ]
    },
    {
      "cell_type": "markdown",
      "source": [
        "# **Projeto: Análise Demográfica de Empréstimos**\n",
        "\n",
        "Elaborado por [Renan Abreu](https://www.linkedin.com/in/renanabreuc/).\n",
        "\n",
        "Data 07/02/2025"
      ],
      "metadata": {
        "id": "PIKcUSR0Nbsg"
      }
    },
    {
      "cell_type": "markdown",
      "source": [
        "## **Introdução**\n",
        "\n",
        "### **Contextualização do Problema:**\n",
        "\n",
        "A análise demográfica dos solicitantes de empréstimos é fundamental, pois permite entender quem são os clientes e quais perfis têm maior probabilidade de aprovação ou reprovação. Isso ajuda as instituições financeiras na identificação de padrões, personalização de produtos, melhoria em campanhas de marketing, otimização de suas políticas de crédito, entre outros.\n",
        "\n",
        "### **Objetivo do Projeto:**\n",
        "\n",
        "Entender e analisar o perfil dos solicitantes de empréstimo com base em **gênero**, **estado civil**, **número de dependentes** e **nível educacional**, a fim de identificar os padrões e as chances que cada grupo tem de aprovação de empréstimo."
      ],
      "metadata": {
        "id": "1WXKBv6MOEXX"
      }
    },
    {
      "cell_type": "markdown",
      "source": [
        "## **Preparação**\n",
        "\n",
        "Foi utilizado o dataset \"Loan Data Set\" para este projeto, no qual possui dados de solicitantes de empréstimos. Além disso, foram importadas as bibliotecas NumPy, Pandas, Matplotlib e Seaborn para realizar uma análise eficiente dos dados."
      ],
      "metadata": {
        "id": "xh_7FQqOqVTj"
      }
    },
    {
      "cell_type": "code",
      "execution_count": null,
      "metadata": {
        "colab": {
          "base_uri": "https://localhost:8080/"
        },
        "id": "WkC2buzgMB4U",
        "outputId": "bcb8265c-cddc-4b93-dfa1-50cfd15a3446"
      },
      "outputs": [
        {
          "output_type": "stream",
          "name": "stdout",
          "text": [
            "Downloading...\n",
            "From: https://drive.google.com/uc?id=1M8JTBzRKF_q8Pw-YZ5cSybJ-eZOzcEHX\n",
            "To: /content/loan_data_set.csv\n",
            "\r  0% 0.00/38.0k [00:00<?, ?B/s]\r100% 38.0k/38.0k [00:00<00:00, 43.9MB/s]\n"
          ]
        }
      ],
      "source": [
        "# Importando bibliotecas\n",
        "import numpy as np                                                              # Biblioteca para operações númericas\n",
        "import pandas as pd                                                             # Biblioteca para manipulação de dados\n",
        "import matplotlib.pyplot as plt                                                 # Biblioteca para criação de gráficos\n",
        "import seaborn as sns                                                           # Biblioteca para visualizações estatísticas\n",
        "\n",
        "# Baixando o dataset (coleção de dados de solicitantes de empréstimos)\n",
        "!gdown 1M8JTBzRKF_q8Pw-YZ5cSybJ-eZOzcEHX                                        # Baixando o dataset a aprtir de um link do Google Drive\n",
        "df = pd.read_csv(\"loan_data_set.csv\")                                           # Carregando o dataset no DataFrame"
      ]
    },
    {
      "cell_type": "code",
      "source": [
        "# Primeiras linhas do dataset para uma visão geral dos dados\n",
        "df.head()                                                                       # Retorna as primeiras 5 linhas do DataFrame"
      ],
      "metadata": {
        "colab": {
          "base_uri": "https://localhost:8080/",
          "height": 243
        },
        "id": "evZPKvYtO-Wv",
        "outputId": "39c69b22-ed4f-4a38-f4d0-cdeea4aefd6d"
      },
      "execution_count": null,
      "outputs": [
        {
          "output_type": "execute_result",
          "data": {
            "text/plain": [
              "    Loan_ID Gender Married Dependents     Education Self_Employed  \\\n",
              "0  LP001002   Male      No          0      Graduate            No   \n",
              "1  LP001003   Male     Yes          1      Graduate            No   \n",
              "2  LP001005   Male     Yes          0      Graduate           Yes   \n",
              "3  LP001006   Male     Yes          0  Not Graduate            No   \n",
              "4  LP001008   Male      No          0      Graduate            No   \n",
              "\n",
              "   ApplicantIncome  CoapplicantIncome  LoanAmount  Loan_Amount_Term  \\\n",
              "0             5849                0.0         NaN             360.0   \n",
              "1             4583             1508.0       128.0             360.0   \n",
              "2             3000                0.0        66.0             360.0   \n",
              "3             2583             2358.0       120.0             360.0   \n",
              "4             6000                0.0       141.0             360.0   \n",
              "\n",
              "   Credit_History Property_Area Loan_Status  \n",
              "0             1.0         Urban           Y  \n",
              "1             1.0         Rural           N  \n",
              "2             1.0         Urban           Y  \n",
              "3             1.0         Urban           Y  \n",
              "4             1.0         Urban           Y  "
            ],
            "text/html": [
              "\n",
              "  <div id=\"df-6f288624-c905-4eab-85c8-6d9172425b19\" class=\"colab-df-container\">\n",
              "    <div>\n",
              "<style scoped>\n",
              "    .dataframe tbody tr th:only-of-type {\n",
              "        vertical-align: middle;\n",
              "    }\n",
              "\n",
              "    .dataframe tbody tr th {\n",
              "        vertical-align: top;\n",
              "    }\n",
              "\n",
              "    .dataframe thead th {\n",
              "        text-align: right;\n",
              "    }\n",
              "</style>\n",
              "<table border=\"1\" class=\"dataframe\">\n",
              "  <thead>\n",
              "    <tr style=\"text-align: right;\">\n",
              "      <th></th>\n",
              "      <th>Loan_ID</th>\n",
              "      <th>Gender</th>\n",
              "      <th>Married</th>\n",
              "      <th>Dependents</th>\n",
              "      <th>Education</th>\n",
              "      <th>Self_Employed</th>\n",
              "      <th>ApplicantIncome</th>\n",
              "      <th>CoapplicantIncome</th>\n",
              "      <th>LoanAmount</th>\n",
              "      <th>Loan_Amount_Term</th>\n",
              "      <th>Credit_History</th>\n",
              "      <th>Property_Area</th>\n",
              "      <th>Loan_Status</th>\n",
              "    </tr>\n",
              "  </thead>\n",
              "  <tbody>\n",
              "    <tr>\n",
              "      <th>0</th>\n",
              "      <td>LP001002</td>\n",
              "      <td>Male</td>\n",
              "      <td>No</td>\n",
              "      <td>0</td>\n",
              "      <td>Graduate</td>\n",
              "      <td>No</td>\n",
              "      <td>5849</td>\n",
              "      <td>0.0</td>\n",
              "      <td>NaN</td>\n",
              "      <td>360.0</td>\n",
              "      <td>1.0</td>\n",
              "      <td>Urban</td>\n",
              "      <td>Y</td>\n",
              "    </tr>\n",
              "    <tr>\n",
              "      <th>1</th>\n",
              "      <td>LP001003</td>\n",
              "      <td>Male</td>\n",
              "      <td>Yes</td>\n",
              "      <td>1</td>\n",
              "      <td>Graduate</td>\n",
              "      <td>No</td>\n",
              "      <td>4583</td>\n",
              "      <td>1508.0</td>\n",
              "      <td>128.0</td>\n",
              "      <td>360.0</td>\n",
              "      <td>1.0</td>\n",
              "      <td>Rural</td>\n",
              "      <td>N</td>\n",
              "    </tr>\n",
              "    <tr>\n",
              "      <th>2</th>\n",
              "      <td>LP001005</td>\n",
              "      <td>Male</td>\n",
              "      <td>Yes</td>\n",
              "      <td>0</td>\n",
              "      <td>Graduate</td>\n",
              "      <td>Yes</td>\n",
              "      <td>3000</td>\n",
              "      <td>0.0</td>\n",
              "      <td>66.0</td>\n",
              "      <td>360.0</td>\n",
              "      <td>1.0</td>\n",
              "      <td>Urban</td>\n",
              "      <td>Y</td>\n",
              "    </tr>\n",
              "    <tr>\n",
              "      <th>3</th>\n",
              "      <td>LP001006</td>\n",
              "      <td>Male</td>\n",
              "      <td>Yes</td>\n",
              "      <td>0</td>\n",
              "      <td>Not Graduate</td>\n",
              "      <td>No</td>\n",
              "      <td>2583</td>\n",
              "      <td>2358.0</td>\n",
              "      <td>120.0</td>\n",
              "      <td>360.0</td>\n",
              "      <td>1.0</td>\n",
              "      <td>Urban</td>\n",
              "      <td>Y</td>\n",
              "    </tr>\n",
              "    <tr>\n",
              "      <th>4</th>\n",
              "      <td>LP001008</td>\n",
              "      <td>Male</td>\n",
              "      <td>No</td>\n",
              "      <td>0</td>\n",
              "      <td>Graduate</td>\n",
              "      <td>No</td>\n",
              "      <td>6000</td>\n",
              "      <td>0.0</td>\n",
              "      <td>141.0</td>\n",
              "      <td>360.0</td>\n",
              "      <td>1.0</td>\n",
              "      <td>Urban</td>\n",
              "      <td>Y</td>\n",
              "    </tr>\n",
              "  </tbody>\n",
              "</table>\n",
              "</div>\n",
              "    <div class=\"colab-df-buttons\">\n",
              "\n",
              "  <div class=\"colab-df-container\">\n",
              "    <button class=\"colab-df-convert\" onclick=\"convertToInteractive('df-6f288624-c905-4eab-85c8-6d9172425b19')\"\n",
              "            title=\"Convert this dataframe to an interactive table.\"\n",
              "            style=\"display:none;\">\n",
              "\n",
              "  <svg xmlns=\"http://www.w3.org/2000/svg\" height=\"24px\" viewBox=\"0 -960 960 960\">\n",
              "    <path d=\"M120-120v-720h720v720H120Zm60-500h600v-160H180v160Zm220 220h160v-160H400v160Zm0 220h160v-160H400v160ZM180-400h160v-160H180v160Zm440 0h160v-160H620v160ZM180-180h160v-160H180v160Zm440 0h160v-160H620v160Z\"/>\n",
              "  </svg>\n",
              "    </button>\n",
              "\n",
              "  <style>\n",
              "    .colab-df-container {\n",
              "      display:flex;\n",
              "      gap: 12px;\n",
              "    }\n",
              "\n",
              "    .colab-df-convert {\n",
              "      background-color: #E8F0FE;\n",
              "      border: none;\n",
              "      border-radius: 50%;\n",
              "      cursor: pointer;\n",
              "      display: none;\n",
              "      fill: #1967D2;\n",
              "      height: 32px;\n",
              "      padding: 0 0 0 0;\n",
              "      width: 32px;\n",
              "    }\n",
              "\n",
              "    .colab-df-convert:hover {\n",
              "      background-color: #E2EBFA;\n",
              "      box-shadow: 0px 1px 2px rgba(60, 64, 67, 0.3), 0px 1px 3px 1px rgba(60, 64, 67, 0.15);\n",
              "      fill: #174EA6;\n",
              "    }\n",
              "\n",
              "    .colab-df-buttons div {\n",
              "      margin-bottom: 4px;\n",
              "    }\n",
              "\n",
              "    [theme=dark] .colab-df-convert {\n",
              "      background-color: #3B4455;\n",
              "      fill: #D2E3FC;\n",
              "    }\n",
              "\n",
              "    [theme=dark] .colab-df-convert:hover {\n",
              "      background-color: #434B5C;\n",
              "      box-shadow: 0px 1px 3px 1px rgba(0, 0, 0, 0.15);\n",
              "      filter: drop-shadow(0px 1px 2px rgba(0, 0, 0, 0.3));\n",
              "      fill: #FFFFFF;\n",
              "    }\n",
              "  </style>\n",
              "\n",
              "    <script>\n",
              "      const buttonEl =\n",
              "        document.querySelector('#df-6f288624-c905-4eab-85c8-6d9172425b19 button.colab-df-convert');\n",
              "      buttonEl.style.display =\n",
              "        google.colab.kernel.accessAllowed ? 'block' : 'none';\n",
              "\n",
              "      async function convertToInteractive(key) {\n",
              "        const element = document.querySelector('#df-6f288624-c905-4eab-85c8-6d9172425b19');\n",
              "        const dataTable =\n",
              "          await google.colab.kernel.invokeFunction('convertToInteractive',\n",
              "                                                    [key], {});\n",
              "        if (!dataTable) return;\n",
              "\n",
              "        const docLinkHtml = 'Like what you see? Visit the ' +\n",
              "          '<a target=\"_blank\" href=https://colab.research.google.com/notebooks/data_table.ipynb>data table notebook</a>'\n",
              "          + ' to learn more about interactive tables.';\n",
              "        element.innerHTML = '';\n",
              "        dataTable['output_type'] = 'display_data';\n",
              "        await google.colab.output.renderOutput(dataTable, element);\n",
              "        const docLink = document.createElement('div');\n",
              "        docLink.innerHTML = docLinkHtml;\n",
              "        element.appendChild(docLink);\n",
              "      }\n",
              "    </script>\n",
              "  </div>\n",
              "\n",
              "\n",
              "<div id=\"df-d9028bc5-98c7-4d07-9465-6e85add6ca36\">\n",
              "  <button class=\"colab-df-quickchart\" onclick=\"quickchart('df-d9028bc5-98c7-4d07-9465-6e85add6ca36')\"\n",
              "            title=\"Suggest charts\"\n",
              "            style=\"display:none;\">\n",
              "\n",
              "<svg xmlns=\"http://www.w3.org/2000/svg\" height=\"24px\"viewBox=\"0 0 24 24\"\n",
              "     width=\"24px\">\n",
              "    <g>\n",
              "        <path d=\"M19 3H5c-1.1 0-2 .9-2 2v14c0 1.1.9 2 2 2h14c1.1 0 2-.9 2-2V5c0-1.1-.9-2-2-2zM9 17H7v-7h2v7zm4 0h-2V7h2v10zm4 0h-2v-4h2v4z\"/>\n",
              "    </g>\n",
              "</svg>\n",
              "  </button>\n",
              "\n",
              "<style>\n",
              "  .colab-df-quickchart {\n",
              "      --bg-color: #E8F0FE;\n",
              "      --fill-color: #1967D2;\n",
              "      --hover-bg-color: #E2EBFA;\n",
              "      --hover-fill-color: #174EA6;\n",
              "      --disabled-fill-color: #AAA;\n",
              "      --disabled-bg-color: #DDD;\n",
              "  }\n",
              "\n",
              "  [theme=dark] .colab-df-quickchart {\n",
              "      --bg-color: #3B4455;\n",
              "      --fill-color: #D2E3FC;\n",
              "      --hover-bg-color: #434B5C;\n",
              "      --hover-fill-color: #FFFFFF;\n",
              "      --disabled-bg-color: #3B4455;\n",
              "      --disabled-fill-color: #666;\n",
              "  }\n",
              "\n",
              "  .colab-df-quickchart {\n",
              "    background-color: var(--bg-color);\n",
              "    border: none;\n",
              "    border-radius: 50%;\n",
              "    cursor: pointer;\n",
              "    display: none;\n",
              "    fill: var(--fill-color);\n",
              "    height: 32px;\n",
              "    padding: 0;\n",
              "    width: 32px;\n",
              "  }\n",
              "\n",
              "  .colab-df-quickchart:hover {\n",
              "    background-color: var(--hover-bg-color);\n",
              "    box-shadow: 0 1px 2px rgba(60, 64, 67, 0.3), 0 1px 3px 1px rgba(60, 64, 67, 0.15);\n",
              "    fill: var(--button-hover-fill-color);\n",
              "  }\n",
              "\n",
              "  .colab-df-quickchart-complete:disabled,\n",
              "  .colab-df-quickchart-complete:disabled:hover {\n",
              "    background-color: var(--disabled-bg-color);\n",
              "    fill: var(--disabled-fill-color);\n",
              "    box-shadow: none;\n",
              "  }\n",
              "\n",
              "  .colab-df-spinner {\n",
              "    border: 2px solid var(--fill-color);\n",
              "    border-color: transparent;\n",
              "    border-bottom-color: var(--fill-color);\n",
              "    animation:\n",
              "      spin 1s steps(1) infinite;\n",
              "  }\n",
              "\n",
              "  @keyframes spin {\n",
              "    0% {\n",
              "      border-color: transparent;\n",
              "      border-bottom-color: var(--fill-color);\n",
              "      border-left-color: var(--fill-color);\n",
              "    }\n",
              "    20% {\n",
              "      border-color: transparent;\n",
              "      border-left-color: var(--fill-color);\n",
              "      border-top-color: var(--fill-color);\n",
              "    }\n",
              "    30% {\n",
              "      border-color: transparent;\n",
              "      border-left-color: var(--fill-color);\n",
              "      border-top-color: var(--fill-color);\n",
              "      border-right-color: var(--fill-color);\n",
              "    }\n",
              "    40% {\n",
              "      border-color: transparent;\n",
              "      border-right-color: var(--fill-color);\n",
              "      border-top-color: var(--fill-color);\n",
              "    }\n",
              "    60% {\n",
              "      border-color: transparent;\n",
              "      border-right-color: var(--fill-color);\n",
              "    }\n",
              "    80% {\n",
              "      border-color: transparent;\n",
              "      border-right-color: var(--fill-color);\n",
              "      border-bottom-color: var(--fill-color);\n",
              "    }\n",
              "    90% {\n",
              "      border-color: transparent;\n",
              "      border-bottom-color: var(--fill-color);\n",
              "    }\n",
              "  }\n",
              "</style>\n",
              "\n",
              "  <script>\n",
              "    async function quickchart(key) {\n",
              "      const quickchartButtonEl =\n",
              "        document.querySelector('#' + key + ' button');\n",
              "      quickchartButtonEl.disabled = true;  // To prevent multiple clicks.\n",
              "      quickchartButtonEl.classList.add('colab-df-spinner');\n",
              "      try {\n",
              "        const charts = await google.colab.kernel.invokeFunction(\n",
              "            'suggestCharts', [key], {});\n",
              "      } catch (error) {\n",
              "        console.error('Error during call to suggestCharts:', error);\n",
              "      }\n",
              "      quickchartButtonEl.classList.remove('colab-df-spinner');\n",
              "      quickchartButtonEl.classList.add('colab-df-quickchart-complete');\n",
              "    }\n",
              "    (() => {\n",
              "      let quickchartButtonEl =\n",
              "        document.querySelector('#df-d9028bc5-98c7-4d07-9465-6e85add6ca36 button');\n",
              "      quickchartButtonEl.style.display =\n",
              "        google.colab.kernel.accessAllowed ? 'block' : 'none';\n",
              "    })();\n",
              "  </script>\n",
              "</div>\n",
              "\n",
              "    </div>\n",
              "  </div>\n"
            ],
            "application/vnd.google.colaboratory.intrinsic+json": {
              "type": "dataframe",
              "variable_name": "df",
              "summary": "{\n  \"name\": \"df\",\n  \"rows\": 614,\n  \"fields\": [\n    {\n      \"column\": \"Loan_ID\",\n      \"properties\": {\n        \"dtype\": \"string\",\n        \"num_unique_values\": 614,\n        \"samples\": [\n          \"LP002139\",\n          \"LP002223\",\n          \"LP001570\"\n        ],\n        \"semantic_type\": \"\",\n        \"description\": \"\"\n      }\n    },\n    {\n      \"column\": \"Gender\",\n      \"properties\": {\n        \"dtype\": \"category\",\n        \"num_unique_values\": 2,\n        \"samples\": [\n          \"Female\",\n          \"Male\"\n        ],\n        \"semantic_type\": \"\",\n        \"description\": \"\"\n      }\n    },\n    {\n      \"column\": \"Married\",\n      \"properties\": {\n        \"dtype\": \"category\",\n        \"num_unique_values\": 2,\n        \"samples\": [\n          \"Yes\",\n          \"No\"\n        ],\n        \"semantic_type\": \"\",\n        \"description\": \"\"\n      }\n    },\n    {\n      \"column\": \"Dependents\",\n      \"properties\": {\n        \"dtype\": \"category\",\n        \"num_unique_values\": 4,\n        \"samples\": [\n          \"1\",\n          \"3+\"\n        ],\n        \"semantic_type\": \"\",\n        \"description\": \"\"\n      }\n    },\n    {\n      \"column\": \"Education\",\n      \"properties\": {\n        \"dtype\": \"category\",\n        \"num_unique_values\": 2,\n        \"samples\": [\n          \"Not Graduate\",\n          \"Graduate\"\n        ],\n        \"semantic_type\": \"\",\n        \"description\": \"\"\n      }\n    },\n    {\n      \"column\": \"Self_Employed\",\n      \"properties\": {\n        \"dtype\": \"category\",\n        \"num_unique_values\": 2,\n        \"samples\": [\n          \"Yes\",\n          \"No\"\n        ],\n        \"semantic_type\": \"\",\n        \"description\": \"\"\n      }\n    },\n    {\n      \"column\": \"ApplicantIncome\",\n      \"properties\": {\n        \"dtype\": \"number\",\n        \"std\": 6109,\n        \"min\": 150,\n        \"max\": 81000,\n        \"num_unique_values\": 505,\n        \"samples\": [\n          8333,\n          4342\n        ],\n        \"semantic_type\": \"\",\n        \"description\": \"\"\n      }\n    },\n    {\n      \"column\": \"CoapplicantIncome\",\n      \"properties\": {\n        \"dtype\": \"number\",\n        \"std\": 2926.2483692241917,\n        \"min\": 0.0,\n        \"max\": 41667.0,\n        \"num_unique_values\": 287,\n        \"samples\": [\n          1840.0,\n          2042.0\n        ],\n        \"semantic_type\": \"\",\n        \"description\": \"\"\n      }\n    },\n    {\n      \"column\": \"LoanAmount\",\n      \"properties\": {\n        \"dtype\": \"number\",\n        \"std\": 85.58732523570545,\n        \"min\": 9.0,\n        \"max\": 700.0,\n        \"num_unique_values\": 203,\n        \"samples\": [\n          100.0,\n          70.0\n        ],\n        \"semantic_type\": \"\",\n        \"description\": \"\"\n      }\n    },\n    {\n      \"column\": \"Loan_Amount_Term\",\n      \"properties\": {\n        \"dtype\": \"number\",\n        \"std\": 65.12040985461256,\n        \"min\": 12.0,\n        \"max\": 480.0,\n        \"num_unique_values\": 10,\n        \"samples\": [\n          84.0,\n          120.0\n        ],\n        \"semantic_type\": \"\",\n        \"description\": \"\"\n      }\n    },\n    {\n      \"column\": \"Credit_History\",\n      \"properties\": {\n        \"dtype\": \"number\",\n        \"std\": 0.3648783192364049,\n        \"min\": 0.0,\n        \"max\": 1.0,\n        \"num_unique_values\": 2,\n        \"samples\": [\n          0.0,\n          1.0\n        ],\n        \"semantic_type\": \"\",\n        \"description\": \"\"\n      }\n    },\n    {\n      \"column\": \"Property_Area\",\n      \"properties\": {\n        \"dtype\": \"category\",\n        \"num_unique_values\": 3,\n        \"samples\": [\n          \"Urban\",\n          \"Rural\"\n        ],\n        \"semantic_type\": \"\",\n        \"description\": \"\"\n      }\n    },\n    {\n      \"column\": \"Loan_Status\",\n      \"properties\": {\n        \"dtype\": \"category\",\n        \"num_unique_values\": 2,\n        \"samples\": [\n          \"N\",\n          \"Y\"\n        ],\n        \"semantic_type\": \"\",\n        \"description\": \"\"\n      }\n    }\n  ]\n}"
            }
          },
          "metadata": {},
          "execution_count": 53
        }
      ]
    },
    {
      "cell_type": "code",
      "source": [
        "# Informações do dataset (como colunas, tipos de dados e valores não nulos)\n",
        "df.info()                                                                       # Retorna informações gerais sobre o DataFrame"
      ],
      "metadata": {
        "colab": {
          "base_uri": "https://localhost:8080/"
        },
        "id": "vh48vFdQSJZI",
        "outputId": "43a37661-e55c-4e6b-ab53-4d4c93ea3e10"
      },
      "execution_count": null,
      "outputs": [
        {
          "output_type": "stream",
          "name": "stdout",
          "text": [
            "<class 'pandas.core.frame.DataFrame'>\n",
            "RangeIndex: 614 entries, 0 to 613\n",
            "Data columns (total 13 columns):\n",
            " #   Column             Non-Null Count  Dtype  \n",
            "---  ------             --------------  -----  \n",
            " 0   Loan_ID            614 non-null    object \n",
            " 1   Gender             601 non-null    object \n",
            " 2   Married            611 non-null    object \n",
            " 3   Dependents         599 non-null    object \n",
            " 4   Education          614 non-null    object \n",
            " 5   Self_Employed      582 non-null    object \n",
            " 6   ApplicantIncome    614 non-null    int64  \n",
            " 7   CoapplicantIncome  614 non-null    float64\n",
            " 8   LoanAmount         592 non-null    float64\n",
            " 9   Loan_Amount_Term   600 non-null    float64\n",
            " 10  Credit_History     564 non-null    float64\n",
            " 11  Property_Area      614 non-null    object \n",
            " 12  Loan_Status        614 non-null    object \n",
            "dtypes: float64(4), int64(1), object(8)\n",
            "memory usage: 62.5+ KB\n"
          ]
        }
      ]
    },
    {
      "cell_type": "code",
      "source": [
        "# Quantidade de linhas e de colunas do dataset\n",
        "df.shape                                                                        # Retorna uma tupla com o número de linhas e colunas do DataFrame"
      ],
      "metadata": {
        "colab": {
          "base_uri": "https://localhost:8080/"
        },
        "id": "xh5d6tgkVKeg",
        "outputId": "e6170880-27a1-4185-9727-ca0591a08403"
      },
      "execution_count": null,
      "outputs": [
        {
          "output_type": "execute_result",
          "data": {
            "text/plain": [
              "(614, 13)"
            ]
          },
          "metadata": {},
          "execution_count": 55
        }
      ]
    },
    {
      "cell_type": "markdown",
      "source": [
        "## **Processamento**\n",
        "\n",
        "Durante o processamento, foi realizada a limpeza dos dados e o tratamento de valores nulos, seguindo os seguintes passos:\n",
        "\n",
        "- Exclusão de colunas irrelevantes para a análise, sendo elas: *Loan_ID* (ID do empréstimo), *Self_Employed* (empregado Independente), *ApplicantIncome* (renda do solicitante), *CoapplicantIncome* (renda complementar), *LoanAmount* (valor do empréstimo), *Loan_Amount_Term* (prazo do empréstimo), *Credit_History* (histórico do crédito) e *Property_Area* (área da propriedade).\n",
        "\n",
        "- Preenchimento dos valores nulos com dados relevantes. Nas colunas *Gender* (gênero) e *Dependents* (dependentes), os valores nulos foram preenchidos pelo valor modal dessas colunas. Na coluna *Married* (casado), os dados nulos foram substituídos pela *string* \"Não\".\n",
        "\n",
        "Desta forma, todas as informações faltantes foram completadas."
      ],
      "metadata": {
        "id": "EoffV9oet5OU"
      }
    },
    {
      "cell_type": "code",
      "source": [
        "# Exclusão de colunas irrelavantes para a análise\n",
        "df = df.drop(columns=[                                                          # Remove as colunas do DataFrame\n",
        "    \"Loan_ID\",\n",
        "    \"Self_Employed\",\n",
        "    \"ApplicantIncome\",\n",
        "    \"CoapplicantIncome\",\n",
        "    \"LoanAmount\",\n",
        "    \"Loan_Amount_Term\",\n",
        "    \"Credit_History\",\n",
        "    \"Property_Area\"])"
      ],
      "metadata": {
        "id": "iy9C7-J7SeDn"
      },
      "execution_count": null,
      "outputs": []
    },
    {
      "cell_type": "code",
      "source": [
        "# Verificação de colunas com dados nulos\n",
        "for col in df.columns:\n",
        "    print(f\"Qntde de dados nulos na coluna {col}: {df[col].isnull().sum()}\")    # Imprime soma dos valores nulos"
      ],
      "metadata": {
        "colab": {
          "base_uri": "https://localhost:8080/"
        },
        "id": "VuAw3rd_Sq-Q",
        "outputId": "7291b5ca-cbfd-4767-8c10-8399fa48754b"
      },
      "execution_count": null,
      "outputs": [
        {
          "output_type": "stream",
          "name": "stdout",
          "text": [
            "Qntde de dados nulos na coluna Gender: 13\n",
            "Qntde de dados nulos na coluna Married: 3\n",
            "Qntde de dados nulos na coluna Dependents: 15\n",
            "Qntde de dados nulos na coluna Education: 0\n",
            "Qntde de dados nulos na coluna Loan_Status: 0\n"
          ]
        }
      ]
    },
    {
      "cell_type": "code",
      "source": [
        "# Preenchimento de dados nulos nas colunas com o valor mais frequente (moda)\n",
        "df[\"Gender\"] = df[\"Gender\"].fillna(df[\"Gender\"].mode()[0])\n",
        "df[\"Dependents\"] = df[\"Dependents\"].fillna(df[\"Dependents\"].mode()[0])\n",
        "\n",
        "# Substituição de dados nulos na coluna pela string \"No\"\n",
        "df.fillna({\"Married\": \"No\"}, inplace=True)"
      ],
      "metadata": {
        "id": "YjOZZJNIh2_i"
      },
      "execution_count": null,
      "outputs": []
    },
    {
      "cell_type": "code",
      "source": [
        "# Verificação de colunas com dados nulos após o tratamento\n",
        "for col in df.columns:\n",
        "    print(f\"Qntde de dados nulos na coluna {col}: {df[col].isnull().sum()}\")    # Imprime soma dos valores nulos"
      ],
      "metadata": {
        "colab": {
          "base_uri": "https://localhost:8080/"
        },
        "id": "YkZjFjgDVZNq",
        "outputId": "3059c233-e785-4ece-9b4e-7adf2d51b57d"
      },
      "execution_count": null,
      "outputs": [
        {
          "output_type": "stream",
          "name": "stdout",
          "text": [
            "Qntde de dados nulos na coluna Gender: 0\n",
            "Qntde de dados nulos na coluna Married: 0\n",
            "Qntde de dados nulos na coluna Dependents: 0\n",
            "Qntde de dados nulos na coluna Education: 0\n",
            "Qntde de dados nulos na coluna Loan_Status: 0\n"
          ]
        }
      ]
    },
    {
      "cell_type": "code",
      "source": [
        "# Primeiras linhas do dataset após a limpeza de dados\n",
        "df.head()                                                                       # Retorna as primeiras 5 linhas do DataFrame"
      ],
      "metadata": {
        "colab": {
          "base_uri": "https://localhost:8080/",
          "height": 206
        },
        "id": "mInubntRXHnq",
        "outputId": "406002c1-a058-479f-dd50-52a03b7cd1a5"
      },
      "execution_count": null,
      "outputs": [
        {
          "output_type": "execute_result",
          "data": {
            "text/plain": [
              "  Gender Married Dependents     Education Loan_Status\n",
              "0   Male      No          0      Graduate           Y\n",
              "1   Male     Yes          1      Graduate           N\n",
              "2   Male     Yes          0      Graduate           Y\n",
              "3   Male     Yes          0  Not Graduate           Y\n",
              "4   Male      No          0      Graduate           Y"
            ],
            "text/html": [
              "\n",
              "  <div id=\"df-1655350e-912e-4647-b701-b3e0c8a87216\" class=\"colab-df-container\">\n",
              "    <div>\n",
              "<style scoped>\n",
              "    .dataframe tbody tr th:only-of-type {\n",
              "        vertical-align: middle;\n",
              "    }\n",
              "\n",
              "    .dataframe tbody tr th {\n",
              "        vertical-align: top;\n",
              "    }\n",
              "\n",
              "    .dataframe thead th {\n",
              "        text-align: right;\n",
              "    }\n",
              "</style>\n",
              "<table border=\"1\" class=\"dataframe\">\n",
              "  <thead>\n",
              "    <tr style=\"text-align: right;\">\n",
              "      <th></th>\n",
              "      <th>Gender</th>\n",
              "      <th>Married</th>\n",
              "      <th>Dependents</th>\n",
              "      <th>Education</th>\n",
              "      <th>Loan_Status</th>\n",
              "    </tr>\n",
              "  </thead>\n",
              "  <tbody>\n",
              "    <tr>\n",
              "      <th>0</th>\n",
              "      <td>Male</td>\n",
              "      <td>No</td>\n",
              "      <td>0</td>\n",
              "      <td>Graduate</td>\n",
              "      <td>Y</td>\n",
              "    </tr>\n",
              "    <tr>\n",
              "      <th>1</th>\n",
              "      <td>Male</td>\n",
              "      <td>Yes</td>\n",
              "      <td>1</td>\n",
              "      <td>Graduate</td>\n",
              "      <td>N</td>\n",
              "    </tr>\n",
              "    <tr>\n",
              "      <th>2</th>\n",
              "      <td>Male</td>\n",
              "      <td>Yes</td>\n",
              "      <td>0</td>\n",
              "      <td>Graduate</td>\n",
              "      <td>Y</td>\n",
              "    </tr>\n",
              "    <tr>\n",
              "      <th>3</th>\n",
              "      <td>Male</td>\n",
              "      <td>Yes</td>\n",
              "      <td>0</td>\n",
              "      <td>Not Graduate</td>\n",
              "      <td>Y</td>\n",
              "    </tr>\n",
              "    <tr>\n",
              "      <th>4</th>\n",
              "      <td>Male</td>\n",
              "      <td>No</td>\n",
              "      <td>0</td>\n",
              "      <td>Graduate</td>\n",
              "      <td>Y</td>\n",
              "    </tr>\n",
              "  </tbody>\n",
              "</table>\n",
              "</div>\n",
              "    <div class=\"colab-df-buttons\">\n",
              "\n",
              "  <div class=\"colab-df-container\">\n",
              "    <button class=\"colab-df-convert\" onclick=\"convertToInteractive('df-1655350e-912e-4647-b701-b3e0c8a87216')\"\n",
              "            title=\"Convert this dataframe to an interactive table.\"\n",
              "            style=\"display:none;\">\n",
              "\n",
              "  <svg xmlns=\"http://www.w3.org/2000/svg\" height=\"24px\" viewBox=\"0 -960 960 960\">\n",
              "    <path d=\"M120-120v-720h720v720H120Zm60-500h600v-160H180v160Zm220 220h160v-160H400v160Zm0 220h160v-160H400v160ZM180-400h160v-160H180v160Zm440 0h160v-160H620v160ZM180-180h160v-160H180v160Zm440 0h160v-160H620v160Z\"/>\n",
              "  </svg>\n",
              "    </button>\n",
              "\n",
              "  <style>\n",
              "    .colab-df-container {\n",
              "      display:flex;\n",
              "      gap: 12px;\n",
              "    }\n",
              "\n",
              "    .colab-df-convert {\n",
              "      background-color: #E8F0FE;\n",
              "      border: none;\n",
              "      border-radius: 50%;\n",
              "      cursor: pointer;\n",
              "      display: none;\n",
              "      fill: #1967D2;\n",
              "      height: 32px;\n",
              "      padding: 0 0 0 0;\n",
              "      width: 32px;\n",
              "    }\n",
              "\n",
              "    .colab-df-convert:hover {\n",
              "      background-color: #E2EBFA;\n",
              "      box-shadow: 0px 1px 2px rgba(60, 64, 67, 0.3), 0px 1px 3px 1px rgba(60, 64, 67, 0.15);\n",
              "      fill: #174EA6;\n",
              "    }\n",
              "\n",
              "    .colab-df-buttons div {\n",
              "      margin-bottom: 4px;\n",
              "    }\n",
              "\n",
              "    [theme=dark] .colab-df-convert {\n",
              "      background-color: #3B4455;\n",
              "      fill: #D2E3FC;\n",
              "    }\n",
              "\n",
              "    [theme=dark] .colab-df-convert:hover {\n",
              "      background-color: #434B5C;\n",
              "      box-shadow: 0px 1px 3px 1px rgba(0, 0, 0, 0.15);\n",
              "      filter: drop-shadow(0px 1px 2px rgba(0, 0, 0, 0.3));\n",
              "      fill: #FFFFFF;\n",
              "    }\n",
              "  </style>\n",
              "\n",
              "    <script>\n",
              "      const buttonEl =\n",
              "        document.querySelector('#df-1655350e-912e-4647-b701-b3e0c8a87216 button.colab-df-convert');\n",
              "      buttonEl.style.display =\n",
              "        google.colab.kernel.accessAllowed ? 'block' : 'none';\n",
              "\n",
              "      async function convertToInteractive(key) {\n",
              "        const element = document.querySelector('#df-1655350e-912e-4647-b701-b3e0c8a87216');\n",
              "        const dataTable =\n",
              "          await google.colab.kernel.invokeFunction('convertToInteractive',\n",
              "                                                    [key], {});\n",
              "        if (!dataTable) return;\n",
              "\n",
              "        const docLinkHtml = 'Like what you see? Visit the ' +\n",
              "          '<a target=\"_blank\" href=https://colab.research.google.com/notebooks/data_table.ipynb>data table notebook</a>'\n",
              "          + ' to learn more about interactive tables.';\n",
              "        element.innerHTML = '';\n",
              "        dataTable['output_type'] = 'display_data';\n",
              "        await google.colab.output.renderOutput(dataTable, element);\n",
              "        const docLink = document.createElement('div');\n",
              "        docLink.innerHTML = docLinkHtml;\n",
              "        element.appendChild(docLink);\n",
              "      }\n",
              "    </script>\n",
              "  </div>\n",
              "\n",
              "\n",
              "<div id=\"df-77f57c22-6d40-4700-b6d6-5e303179cd6b\">\n",
              "  <button class=\"colab-df-quickchart\" onclick=\"quickchart('df-77f57c22-6d40-4700-b6d6-5e303179cd6b')\"\n",
              "            title=\"Suggest charts\"\n",
              "            style=\"display:none;\">\n",
              "\n",
              "<svg xmlns=\"http://www.w3.org/2000/svg\" height=\"24px\"viewBox=\"0 0 24 24\"\n",
              "     width=\"24px\">\n",
              "    <g>\n",
              "        <path d=\"M19 3H5c-1.1 0-2 .9-2 2v14c0 1.1.9 2 2 2h14c1.1 0 2-.9 2-2V5c0-1.1-.9-2-2-2zM9 17H7v-7h2v7zm4 0h-2V7h2v10zm4 0h-2v-4h2v4z\"/>\n",
              "    </g>\n",
              "</svg>\n",
              "  </button>\n",
              "\n",
              "<style>\n",
              "  .colab-df-quickchart {\n",
              "      --bg-color: #E8F0FE;\n",
              "      --fill-color: #1967D2;\n",
              "      --hover-bg-color: #E2EBFA;\n",
              "      --hover-fill-color: #174EA6;\n",
              "      --disabled-fill-color: #AAA;\n",
              "      --disabled-bg-color: #DDD;\n",
              "  }\n",
              "\n",
              "  [theme=dark] .colab-df-quickchart {\n",
              "      --bg-color: #3B4455;\n",
              "      --fill-color: #D2E3FC;\n",
              "      --hover-bg-color: #434B5C;\n",
              "      --hover-fill-color: #FFFFFF;\n",
              "      --disabled-bg-color: #3B4455;\n",
              "      --disabled-fill-color: #666;\n",
              "  }\n",
              "\n",
              "  .colab-df-quickchart {\n",
              "    background-color: var(--bg-color);\n",
              "    border: none;\n",
              "    border-radius: 50%;\n",
              "    cursor: pointer;\n",
              "    display: none;\n",
              "    fill: var(--fill-color);\n",
              "    height: 32px;\n",
              "    padding: 0;\n",
              "    width: 32px;\n",
              "  }\n",
              "\n",
              "  .colab-df-quickchart:hover {\n",
              "    background-color: var(--hover-bg-color);\n",
              "    box-shadow: 0 1px 2px rgba(60, 64, 67, 0.3), 0 1px 3px 1px rgba(60, 64, 67, 0.15);\n",
              "    fill: var(--button-hover-fill-color);\n",
              "  }\n",
              "\n",
              "  .colab-df-quickchart-complete:disabled,\n",
              "  .colab-df-quickchart-complete:disabled:hover {\n",
              "    background-color: var(--disabled-bg-color);\n",
              "    fill: var(--disabled-fill-color);\n",
              "    box-shadow: none;\n",
              "  }\n",
              "\n",
              "  .colab-df-spinner {\n",
              "    border: 2px solid var(--fill-color);\n",
              "    border-color: transparent;\n",
              "    border-bottom-color: var(--fill-color);\n",
              "    animation:\n",
              "      spin 1s steps(1) infinite;\n",
              "  }\n",
              "\n",
              "  @keyframes spin {\n",
              "    0% {\n",
              "      border-color: transparent;\n",
              "      border-bottom-color: var(--fill-color);\n",
              "      border-left-color: var(--fill-color);\n",
              "    }\n",
              "    20% {\n",
              "      border-color: transparent;\n",
              "      border-left-color: var(--fill-color);\n",
              "      border-top-color: var(--fill-color);\n",
              "    }\n",
              "    30% {\n",
              "      border-color: transparent;\n",
              "      border-left-color: var(--fill-color);\n",
              "      border-top-color: var(--fill-color);\n",
              "      border-right-color: var(--fill-color);\n",
              "    }\n",
              "    40% {\n",
              "      border-color: transparent;\n",
              "      border-right-color: var(--fill-color);\n",
              "      border-top-color: var(--fill-color);\n",
              "    }\n",
              "    60% {\n",
              "      border-color: transparent;\n",
              "      border-right-color: var(--fill-color);\n",
              "    }\n",
              "    80% {\n",
              "      border-color: transparent;\n",
              "      border-right-color: var(--fill-color);\n",
              "      border-bottom-color: var(--fill-color);\n",
              "    }\n",
              "    90% {\n",
              "      border-color: transparent;\n",
              "      border-bottom-color: var(--fill-color);\n",
              "    }\n",
              "  }\n",
              "</style>\n",
              "\n",
              "  <script>\n",
              "    async function quickchart(key) {\n",
              "      const quickchartButtonEl =\n",
              "        document.querySelector('#' + key + ' button');\n",
              "      quickchartButtonEl.disabled = true;  // To prevent multiple clicks.\n",
              "      quickchartButtonEl.classList.add('colab-df-spinner');\n",
              "      try {\n",
              "        const charts = await google.colab.kernel.invokeFunction(\n",
              "            'suggestCharts', [key], {});\n",
              "      } catch (error) {\n",
              "        console.error('Error during call to suggestCharts:', error);\n",
              "      }\n",
              "      quickchartButtonEl.classList.remove('colab-df-spinner');\n",
              "      quickchartButtonEl.classList.add('colab-df-quickchart-complete');\n",
              "    }\n",
              "    (() => {\n",
              "      let quickchartButtonEl =\n",
              "        document.querySelector('#df-77f57c22-6d40-4700-b6d6-5e303179cd6b button');\n",
              "      quickchartButtonEl.style.display =\n",
              "        google.colab.kernel.accessAllowed ? 'block' : 'none';\n",
              "    })();\n",
              "  </script>\n",
              "</div>\n",
              "\n",
              "    </div>\n",
              "  </div>\n"
            ],
            "application/vnd.google.colaboratory.intrinsic+json": {
              "type": "dataframe",
              "variable_name": "df",
              "summary": "{\n  \"name\": \"df\",\n  \"rows\": 614,\n  \"fields\": [\n    {\n      \"column\": \"Gender\",\n      \"properties\": {\n        \"dtype\": \"category\",\n        \"num_unique_values\": 2,\n        \"samples\": [\n          \"Female\",\n          \"Male\"\n        ],\n        \"semantic_type\": \"\",\n        \"description\": \"\"\n      }\n    },\n    {\n      \"column\": \"Married\",\n      \"properties\": {\n        \"dtype\": \"category\",\n        \"num_unique_values\": 2,\n        \"samples\": [\n          \"Yes\",\n          \"No\"\n        ],\n        \"semantic_type\": \"\",\n        \"description\": \"\"\n      }\n    },\n    {\n      \"column\": \"Dependents\",\n      \"properties\": {\n        \"dtype\": \"category\",\n        \"num_unique_values\": 4,\n        \"samples\": [\n          \"1\",\n          \"3+\"\n        ],\n        \"semantic_type\": \"\",\n        \"description\": \"\"\n      }\n    },\n    {\n      \"column\": \"Education\",\n      \"properties\": {\n        \"dtype\": \"category\",\n        \"num_unique_values\": 2,\n        \"samples\": [\n          \"Not Graduate\",\n          \"Graduate\"\n        ],\n        \"semantic_type\": \"\",\n        \"description\": \"\"\n      }\n    },\n    {\n      \"column\": \"Loan_Status\",\n      \"properties\": {\n        \"dtype\": \"category\",\n        \"num_unique_values\": 2,\n        \"samples\": [\n          \"N\",\n          \"Y\"\n        ],\n        \"semantic_type\": \"\",\n        \"description\": \"\"\n      }\n    }\n  ]\n}"
            }
          },
          "metadata": {},
          "execution_count": 60
        }
      ]
    },
    {
      "cell_type": "markdown",
      "source": [
        "## **Análise**\n",
        "\n",
        "A análise foi realizada com o objetivo de responder a algumas perguntas sobre os solicitantes e quantificar as características dos grupos. Os seguintes pontos foram explorados:\n",
        "\n",
        "**Distribuição por Gênero** - \"Quantos solicitantes são homens e quantos são mulheres?\"\n",
        "\n",
        "- A coluna *Gender* foi utilizada para identificar o número de solicitantes em cada gênero. Para isso, foi utilizado o método `value_counts()`, que permite realizar a contagem de cada gênero.\n",
        "\n",
        "**Estado Civil** - \"Qual a proporção de solicitantes casados e solteiros?\"\n",
        "\n",
        "- A coluna *Married* foi utilizada para verificar a proporção de casados e solteiros. O método `value_counts(normalize=True)` foi aplicado para calcular a porcentagem de cada categoria.\n",
        "\n",
        "**Número de Dependentes** - \"Quantos solicitantes possuem dependentes e qual a média de dependentes por pessoa?\"\n",
        "\n",
        "- A coluna *Dependents* foi utilizada para identificar quantos solicitantes têm dependentes. Além disso, a média de dependentes foi calculada utilizando o método `mean()`. O método `replace()` foi usado para simplificar o valor \"3+\" substituindo-o por \"3\", apesar de não trazer a precisão completa dos dados.\n",
        "\n",
        "**Nível Educacional** - \"Qual a proporção entre solicitantes graduados e não graduados?\"\n",
        "\n",
        "- A coluna *Education* foi utilizada para analisar a quantidade de solicitantes graduados e não graduados. O método `value_counts()` permitiu analisar a distribuição entre os níveis de escolaridade."
      ],
      "metadata": {
        "id": "C6kanoCbZKH6"
      }
    },
    {
      "cell_type": "code",
      "source": [
        "# Quantidade de solicitantes por gênero\n",
        "df[\"Gender\"].value_counts()                                                     # Retorna uma serie com a contagem de cada categoria"
      ],
      "metadata": {
        "colab": {
          "base_uri": "https://localhost:8080/",
          "height": 178
        },
        "id": "c8rmAyf7ZQY6",
        "outputId": "8ca32dec-f801-43fd-edc1-31f8e94dba14"
      },
      "execution_count": null,
      "outputs": [
        {
          "output_type": "execute_result",
          "data": {
            "text/plain": [
              "Gender\n",
              "Male      502\n",
              "Female    112\n",
              "Name: count, dtype: int64"
            ],
            "text/html": [
              "<div>\n",
              "<style scoped>\n",
              "    .dataframe tbody tr th:only-of-type {\n",
              "        vertical-align: middle;\n",
              "    }\n",
              "\n",
              "    .dataframe tbody tr th {\n",
              "        vertical-align: top;\n",
              "    }\n",
              "\n",
              "    .dataframe thead th {\n",
              "        text-align: right;\n",
              "    }\n",
              "</style>\n",
              "<table border=\"1\" class=\"dataframe\">\n",
              "  <thead>\n",
              "    <tr style=\"text-align: right;\">\n",
              "      <th></th>\n",
              "      <th>count</th>\n",
              "    </tr>\n",
              "    <tr>\n",
              "      <th>Gender</th>\n",
              "      <th></th>\n",
              "    </tr>\n",
              "  </thead>\n",
              "  <tbody>\n",
              "    <tr>\n",
              "      <th>Male</th>\n",
              "      <td>502</td>\n",
              "    </tr>\n",
              "    <tr>\n",
              "      <th>Female</th>\n",
              "      <td>112</td>\n",
              "    </tr>\n",
              "  </tbody>\n",
              "</table>\n",
              "</div><br><label><b>dtype:</b> int64</label>"
            ]
          },
          "metadata": {},
          "execution_count": 61
        }
      ]
    },
    {
      "cell_type": "code",
      "source": [
        "# Proporção de solicitantes casados e solteiros\n",
        "df[\"Married\"].value_counts(normalize=True)                                      # Retorna uma serie com a proporção de cada categoria"
      ],
      "metadata": {
        "colab": {
          "base_uri": "https://localhost:8080/",
          "height": 178
        },
        "id": "0jexcyvkpC4F",
        "outputId": "38325e15-2680-477f-ec47-ed86d6daebd9"
      },
      "execution_count": null,
      "outputs": [
        {
          "output_type": "execute_result",
          "data": {
            "text/plain": [
              "Married\n",
              "Yes    0.648208\n",
              "No     0.351792\n",
              "Name: proportion, dtype: float64"
            ],
            "text/html": [
              "<div>\n",
              "<style scoped>\n",
              "    .dataframe tbody tr th:only-of-type {\n",
              "        vertical-align: middle;\n",
              "    }\n",
              "\n",
              "    .dataframe tbody tr th {\n",
              "        vertical-align: top;\n",
              "    }\n",
              "\n",
              "    .dataframe thead th {\n",
              "        text-align: right;\n",
              "    }\n",
              "</style>\n",
              "<table border=\"1\" class=\"dataframe\">\n",
              "  <thead>\n",
              "    <tr style=\"text-align: right;\">\n",
              "      <th></th>\n",
              "      <th>proportion</th>\n",
              "    </tr>\n",
              "    <tr>\n",
              "      <th>Married</th>\n",
              "      <th></th>\n",
              "    </tr>\n",
              "  </thead>\n",
              "  <tbody>\n",
              "    <tr>\n",
              "      <th>Yes</th>\n",
              "      <td>0.648208</td>\n",
              "    </tr>\n",
              "    <tr>\n",
              "      <th>No</th>\n",
              "      <td>0.351792</td>\n",
              "    </tr>\n",
              "  </tbody>\n",
              "</table>\n",
              "</div><br><label><b>dtype:</b> float64</label>"
            ]
          },
          "metadata": {},
          "execution_count": 62
        }
      ]
    },
    {
      "cell_type": "code",
      "source": [
        "# Quantidade de solicitantes por número de dependentes\n",
        "df[\"Dependents\"].value_counts()                                                 # Retorna uma serie a contagem de cada categoria"
      ],
      "metadata": {
        "colab": {
          "base_uri": "https://localhost:8080/",
          "height": 241
        },
        "id": "OrsuRjHJqd3N",
        "outputId": "0357b2c5-7cdd-4eeb-8d6c-fe228a4e58a5"
      },
      "execution_count": null,
      "outputs": [
        {
          "output_type": "execute_result",
          "data": {
            "text/plain": [
              "Dependents\n",
              "0     360\n",
              "1     102\n",
              "2     101\n",
              "3+     51\n",
              "Name: count, dtype: int64"
            ],
            "text/html": [
              "<div>\n",
              "<style scoped>\n",
              "    .dataframe tbody tr th:only-of-type {\n",
              "        vertical-align: middle;\n",
              "    }\n",
              "\n",
              "    .dataframe tbody tr th {\n",
              "        vertical-align: top;\n",
              "    }\n",
              "\n",
              "    .dataframe thead th {\n",
              "        text-align: right;\n",
              "    }\n",
              "</style>\n",
              "<table border=\"1\" class=\"dataframe\">\n",
              "  <thead>\n",
              "    <tr style=\"text-align: right;\">\n",
              "      <th></th>\n",
              "      <th>count</th>\n",
              "    </tr>\n",
              "    <tr>\n",
              "      <th>Dependents</th>\n",
              "      <th></th>\n",
              "    </tr>\n",
              "  </thead>\n",
              "  <tbody>\n",
              "    <tr>\n",
              "      <th>0</th>\n",
              "      <td>360</td>\n",
              "    </tr>\n",
              "    <tr>\n",
              "      <th>1</th>\n",
              "      <td>102</td>\n",
              "    </tr>\n",
              "    <tr>\n",
              "      <th>2</th>\n",
              "      <td>101</td>\n",
              "    </tr>\n",
              "    <tr>\n",
              "      <th>3+</th>\n",
              "      <td>51</td>\n",
              "    </tr>\n",
              "  </tbody>\n",
              "</table>\n",
              "</div><br><label><b>dtype:</b> int64</label>"
            ]
          },
          "metadata": {},
          "execution_count": 63
        }
      ]
    },
    {
      "cell_type": "code",
      "source": [
        "# Quantidade de solicitantes com dependentes\n",
        "df[df[\"Dependents\"] != \"0\"][\"Dependents\"].count()                               # Filtra os dados onde a coluna \"Dependents\" não igual a \"0\" e conta quantos registros existem"
      ],
      "metadata": {
        "colab": {
          "base_uri": "https://localhost:8080/"
        },
        "id": "0rH4PxdphdyU",
        "outputId": "361ae259-07f4-49b8-e65d-7fe7097dbdf6"
      },
      "execution_count": null,
      "outputs": [
        {
          "output_type": "execute_result",
          "data": {
            "text/plain": [
              "254"
            ]
          },
          "metadata": {},
          "execution_count": 64
        }
      ]
    },
    {
      "cell_type": "code",
      "source": [
        "# Média de dependentes por solicitante\n",
        "df[\"Dependents\"] = df[\"Dependents\"].replace({\"3+\": 3})                          # Substitui \"3+\" pelo valor 3 para padronizar os dados\n",
        "df[\"Dependents\"] = df[\"Dependents\"].astype(int)                                 # Converte a coluna para o tipo inteiro\n",
        "media = df[\"Dependents\"].mean()                                                 # Calcula a média de dependentes\n",
        "media"
      ],
      "metadata": {
        "colab": {
          "base_uri": "https://localhost:8080/"
        },
        "id": "FZT3-GYHi7h8",
        "outputId": "019528db-3a99-4760-9379-6a7a79645229"
      },
      "execution_count": null,
      "outputs": [
        {
          "output_type": "execute_result",
          "data": {
            "text/plain": [
              "0.744299674267101"
            ]
          },
          "metadata": {},
          "execution_count": 65
        }
      ]
    },
    {
      "cell_type": "code",
      "source": [
        "# Quantidade de solicitantes graduados e não graduados\n",
        "df[\"Education\"].value_counts()                                                  # Retorna uma serie com a contagem de cada categoria"
      ],
      "metadata": {
        "colab": {
          "base_uri": "https://localhost:8080/",
          "height": 178
        },
        "id": "ov6Tz1VWsEDH",
        "outputId": "4789dd91-65e5-4623-9474-27854cb8f7bc"
      },
      "execution_count": null,
      "outputs": [
        {
          "output_type": "execute_result",
          "data": {
            "text/plain": [
              "Education\n",
              "Graduate        480\n",
              "Not Graduate    134\n",
              "Name: count, dtype: int64"
            ],
            "text/html": [
              "<div>\n",
              "<style scoped>\n",
              "    .dataframe tbody tr th:only-of-type {\n",
              "        vertical-align: middle;\n",
              "    }\n",
              "\n",
              "    .dataframe tbody tr th {\n",
              "        vertical-align: top;\n",
              "    }\n",
              "\n",
              "    .dataframe thead th {\n",
              "        text-align: right;\n",
              "    }\n",
              "</style>\n",
              "<table border=\"1\" class=\"dataframe\">\n",
              "  <thead>\n",
              "    <tr style=\"text-align: right;\">\n",
              "      <th></th>\n",
              "      <th>count</th>\n",
              "    </tr>\n",
              "    <tr>\n",
              "      <th>Education</th>\n",
              "      <th></th>\n",
              "    </tr>\n",
              "  </thead>\n",
              "  <tbody>\n",
              "    <tr>\n",
              "      <th>Graduate</th>\n",
              "      <td>480</td>\n",
              "    </tr>\n",
              "    <tr>\n",
              "      <th>Not Graduate</th>\n",
              "      <td>134</td>\n",
              "    </tr>\n",
              "  </tbody>\n",
              "</table>\n",
              "</div><br><label><b>dtype:</b> int64</label>"
            ]
          },
          "metadata": {},
          "execution_count": 66
        }
      ]
    },
    {
      "cell_type": "markdown",
      "source": [
        "## **Visualização**\n",
        "\n",
        "A fase de visualização de dados foi elaborada para apresentar uma representação gráfica das informações, para de facilitar na tomada de decisão para definir efetivas estratégias. Os seguintes gráficos foram elaborados:\n",
        "\n",
        "- **Distribuição de Gênero** - Criado um gráfico de barras, permitindo a compreensão rápida da diferença entre os gêneros.\n",
        "\n",
        "- **Proporção de Casados vs Solteiros** - Criado um gráfico de pizza, útil para visualizar as porcentagens relativas entre as duas categorias.\n",
        "\n",
        "- **Distribuição de Dependentes** - Criado um gráfico de barras com uma linha para destacar o valor médio e permitir a análise visual.\n",
        "\n",
        "- **Proporção de Níveis Educacionais** - Criado um gráfico de pizza, útil para visualizar a distribuição entre solicitantes graduados e não graduados.\n",
        "\n",
        "- **Correlação entre as Colunas** - Criado um heatmap, que permite observar a intensidade das correlações entre as variáveis, facilitando a identificação de relações importantes entre as colunas."
      ],
      "metadata": {
        "id": "Qt5h_ooCp7Ct"
      }
    },
    {
      "cell_type": "code",
      "source": [
        "# Criação de gráfico para a distribuição de gêneros\n",
        "df[\"Gender\"].value_counts().plot(                                               # Calcula a quantidade de solicitantes e plota em um gráfico\n",
        "    kind=\"bar\",                                                                 # Define o tipo do gráfico como gráfico de barras\n",
        "    color=[\"blue\", \"red\"])                                                      # Define as cores para cada categoria\n",
        "plt.title(\"Distribuição de Gênero\")                                             # Adiciona um título ao gráfico\n",
        "plt.ylabel(\"Quantidade de Solicitantes\")                                        # Adiciona uma legenda no eixo Y\n",
        "plt.xlabel(\"Gêneros\")                                                           # Adiciona uma legenda no eixo X\n",
        "plt.show()                                                                      # Exibe o gráfico"
      ],
      "metadata": {
        "colab": {
          "base_uri": "https://localhost:8080/",
          "height": 508
        },
        "id": "MhnA5Db9aimC",
        "outputId": "81701de6-bfad-4eda-d8eb-06b5437df71e"
      },
      "execution_count": null,
      "outputs": [
        {
          "output_type": "display_data",
          "data": {
            "text/plain": [
              "<Figure size 640x480 with 1 Axes>"
            ],
            "image/png": "[encoded data removed]"
          },
          "metadata": {}
        }
      ]
    },
    {
      "cell_type": "code",
      "source": [
        "# Criação de gráfico para a proporção de casados e solteiros\n",
        "df[\"Married\"].value_counts().plot(                                              # Calcula a quantidade de solicitantes e plota em um gráfico\n",
        "    kind=\"pie\",                                                                 # Define o tipo do gráfico como gráfico de pizza\n",
        "    autopct=\"%1.2f%%\",                                                          # Ajusta o ângulo inicial\n",
        "    colors=[\"green\", \"red\"])                                                    # Define as cores para cada categoria\n",
        "plt.title(\"Proporção de Casados vs Solteiros\")                                  # Adiciona um título ao gráfico\n",
        "plt.ylabel(\"\")                                                                  # Adiciona uma legenda vazia ao eixo Y\n",
        "plt.show()                                                                      # Exibe o gráfico"
      ],
      "metadata": {
        "colab": {
          "base_uri": "https://localhost:8080/",
          "height": 428
        },
        "id": "LudSU1wbdJY7",
        "outputId": "d3856f24-304c-4fb7-c863-2383cdaa967c"
      },
      "execution_count": null,
      "outputs": [
        {
          "output_type": "display_data",
          "data": {
            "text/plain": [
              "<Figure size 640x480 with 1 Axes>"
            ],
            "image/png": "[encoded data removed]"
          },
          "metadata": {}
        }
      ]
    },
    {
      "cell_type": "code",
      "source": [
        "# Criação de gráfico para a distribuição de dependentes por solicitantes\n",
        "df[\"Dependents\"].value_counts().plot(                                           # Calcula a quantidade de solicitantes e plota em um gráfico\n",
        "    kind=\"bar\",                                                                 # Define o tipo do gráfico como gráfico de barras\n",
        "    color=[\"black\", \"blue\", \"green\", \"yellow\"],                                 # Define as cores para cada categoria\n",
        "    legend=False)                                                               # Remove a legenda padrão\n",
        "plt.title(\"Distribuição de Dependentes\")                                        # Adiciona um título ao gráfico\n",
        "plt.ylabel(\"Número de Solicitantes\")                                            # Adiciona uma legenda no eixo Y\n",
        "plt.xlabel(\"Número de Dependentes\")                                             # Adiciona uma legenda no eixo X\n",
        "\n",
        "linha_media = plt.axhline(                                                      # Adiciona linha de média dos números dependente por solicitante\n",
        "    media,                                                                      # Valor da média previamente calculada\n",
        "    color=\"red\",                                                                # Define a cor da linha\n",
        "    linestyle=\"--\",                                                             # Define o estilo como linha tracejada\n",
        "    label=f\"Média: {media:.2f}\")                                                # Adiciona valor da média com duas casas decimais no rótulo da legenda\n",
        "plt.legend(handles=[linha_media])                                               # Exibe a legenda com o valor da média\n",
        "\n",
        "plt.show()                                                                      # Exibe o gráfico"
      ],
      "metadata": {
        "colab": {
          "base_uri": "https://localhost:8080/",
          "height": 467
        },
        "id": "Kw1P_Cevqi4V",
        "outputId": "e8cc0c12-2f6d-44eb-fbd1-821e8e4173e2"
      },
      "execution_count": null,
      "outputs": [
        {
          "output_type": "display_data",
          "data": {
            "text/plain": [
              "<Figure size 640x480 with 1 Axes>"
            ],
            "image/png": "[encoded data removed]"
          },
          "metadata": {}
        }
      ]
    },
    {
      "cell_type": "code",
      "source": [
        "# Criação de gráfico para a proporção de níveis educacionais\n",
        "df[\"Education\"].value_counts().plot(                                            # Calcula a quantidade de solicitantes e plota em um gráfico\n",
        "    kind=\"pie\",                                                                 # Define o tipo do gráfico como gráfico de pizza\n",
        "    autopct=\"%1.2f%%\",                                                          # Ajusta o ângulo inicial\n",
        "    colors=[\"blue\", \"red\"])                                                     # Define as cores para cada categoria\n",
        "plt.title(\"Proporção de Níveis Educacionais\")                                  # Adiciona um título ao gráfico\n",
        "plt.ylabel(\"\")                                                                  # Adiciona uma legenda vazia ao eixo Y\n",
        "plt.show()                                                                      # Exibe o gráfico"
      ],
      "metadata": {
        "colab": {
          "base_uri": "https://localhost:8080/",
          "height": 429
        },
        "id": "H75f_MxtlSws",
        "outputId": "6ce4dbf9-bf06-43a8-b9a6-bbaf5e341696"
      },
      "execution_count": null,
      "outputs": [
        {
          "output_type": "display_data",
          "data": {
            "text/plain": [
              "<Figure size 640x480 with 1 Axes>"
            ],
            "image/png": "[encoded data removed]"
          },
          "metadata": {}
        }
      ]
    },
    {
      "cell_type": "code",
      "source": [
        "# Criação do Heatmap para análise de correlação entre as colunas\n",
        "df_dummies = pd.get_dummies(                                                    # Converte colunas categóricas (que possuem objects) em colunas binárias (0, 1)\n",
        "    df[[\"Gender\", \"Married\", \"Education\", \"Loan_Status\"]]).astype(int)          # Colunas selecionadas e transformadas para o tipo inteiro\n",
        "\n",
        "heatmap = df.copy()                                                             # Realiza uma cópia do DataFrame para evitar modificações no mesmo\n",
        "heatmap = pd.concat([heatmap, df_dummies], axis=1)                              # Concatena as colunas binárias no novo Dataframe para análise de correlação\n",
        "heatmap.drop(                                                                   # Remove as colunas categóricas originais para evitar redundância\n",
        "    [\"Gender\", \"Married\", \"Education\", \"Loan_Status\", \"Dependents\"],\n",
        "    axis=1,                                                                     # Define que a remoção deve ser feita nas colunas\n",
        "    inplace=True)                                                               # Aplica a remoção diratemnte no DataFrame\n",
        "heatmap = heatmap.corr()                                                        # Calcula a matriz de correlação entre as colunas\n",
        "\n",
        "plt.figure(figsize=(10, 8))                                                     # Define o tamanho do gráfico\n",
        "sns.heatmap(                                                                    # Define o tipo do gráfico como heatmap\n",
        "    heatmap,                                                                    # Matriz de correlação calculada anteriomente\n",
        "    annot=True,                                                                 # Exibe valores numéricos dentro do mapa\n",
        "    cmap=\"coolwarm\",                                                            # Define a paleta de cores\n",
        "    fmt=\".2f\",                                                                  # Define o formato dos números como duas casas decimais\n",
        "    linewidths=0.5)                                                             # Define a espessura das linhas\n",
        "plt.title(\"Correlação entre as Colunas\")                                        # Adiciona um título ao gráfico\n",
        "plt.show()                                                                      # Exibe o gráfico"
      ],
      "metadata": {
        "colab": {
          "base_uri": "https://localhost:8080/",
          "height": 667
        },
        "id": "cKO42N5Fz3Kn",
        "outputId": "c1b45307-a8f2-4ab6-c495-cdfae7aa18e8"
      },
      "execution_count": null,
      "outputs": [
        {
          "output_type": "display_data",
          "data": {
            "text/plain": [
              "<Figure size 1000x800 with 2 Axes>"
            ],
            "image/png": "[encoded data removed]"
          },
          "metadata": {}
        }
      ]
    },
    {
      "cell_type": "markdown",
      "source": [
        "## **Resultados**\n",
        "\n",
        "Com base nas análises e visualizações de dados, alguns resultados significativos foram observados:\n",
        "\n",
        "**Distribuição por Gênero:**\n",
        "\n",
        "Apesar da grande diferença na solicitação de empréstimos entre homens e mulheres, a relação entre o gênero e a aprovação de empréstimo é baixa, o que indica que o gênero **não tem um impacto relevante na aprovação**. Entretanto, homens parecem ter uma leve vantagem.\n",
        "\n",
        "**Proporção de Casados vs Solteiros:**\n",
        "\n",
        "A situação civil pode impactar na aprovação. Pessoas casadas têm maior probabilidade de serem aprovadas em relação aos solteiros, pois possuem uma rede de apoio mais consolidada.\n",
        "\n",
        "**Distribuição de Dependentes:**\n",
        "\n",
        "A maior parte dos solicitantes tem de 0 a 2 dependentes, indicando que pessoas com mais dependentes podem ter um maior grau de reprovação, pois podem ter mais responsabilidades financeiras.\n",
        "\n",
        "**Proporção de Níveis Educacionais:**\n",
        "\n",
        "Solicitantes com maior nível educacional têm mais chances de conseguir o empréstimo, enquanto quem não possui ensino superior tem menos chances.\n",
        "\n",
        "\n",
        "\n"
      ],
      "metadata": {
        "id": "78Te6-6gTqzy"
      }
    },
    {
      "cell_type": "markdown",
      "source": [
        "## **Conclusão**\n",
        "\n",
        "Foi possível identificar alguns fatores importantes para a aprovação de empréstimos. **A educaçãoe o estado civil são aspectos relevantes** na análise de crédito. Pessoas com ensino superior e casadas têm mais chances de aprovação, o que pode indicar uma desatenção em relação aos grupos de baixa renda, uma vez que para conseguir um diploma superior e realizar um casamento legal exigem condições financeiras consideráveis.\n",
        "\n",
        "Embora o impacto do fator gênero para a aprovação seja baixo, a **diferença na solicitação de crédito entre os gêneros é notável**, com mais homens solicitando empréstimos. Isso sugere que o número reduzido de mulheres solicitando crédito pode estar relacionado à falta de campanhas de marketing, que talvez não estejam alcançando o público feminino de maneira adequada, resultando em um desconhecimento sobre os produtos e opções disponíveis.\n",
        "\n",
        "Contudo, vale ressaltar que essas conclusões são fundamentadas nos **dados utilizados**, para uma análise completa, outros fatores como renda, histórico de crédito e valor de empréstimo, devem ser analisados.\n"
      ],
      "metadata": {
        "id": "ctIHlS8DSpKp"
      }
    }
  ]
}